{
 "cells": [
  {
   "metadata": {
    "ExecuteTime": {
     "end_time": "2025-09-15T13:50:10.980605Z",
     "start_time": "2025-09-15T13:50:10.327220Z"
    }
   },
   "cell_type": "code",
   "source": "import pandas as pd",
   "id": "bf6aa07e9d646079",
   "outputs": [],
   "execution_count": 2
  },
  {
   "metadata": {},
   "cell_type": "markdown",
   "source": "# 2 pd的Series",
   "id": "19673bd3ae0bf0f"
  },
  {
   "cell_type": "code",
   "id": "initial_id",
   "metadata": {
    "collapsed": true,
    "ExecuteTime": {
     "end_time": "2025-09-15T13:51:26.194737Z",
     "start_time": "2025-09-15T13:51:26.189505Z"
    }
   },
   "source": [
    "# 通过 list 构建 Series\n",
    "ser_obj = pd.Series(range(10, 20))\n",
    "print(ser_obj)\n",
    "print(type(ser_obj))"
   ],
   "outputs": [
    {
     "name": "stdout",
     "output_type": "stream",
     "text": [
      "0    10\n",
      "1    11\n",
      "2    12\n",
      "3    13\n",
      "4    14\n",
      "5    15\n",
      "6    16\n",
      "7    17\n",
      "8    18\n",
      "9    19\n",
      "dtype: int64\n",
      "<class 'pandas.core.series.Series'>\n"
     ]
    }
   ],
   "execution_count": 5
  },
  {
   "metadata": {
    "ExecuteTime": {
     "end_time": "2025-09-15T13:51:19.143904Z",
     "start_time": "2025-09-15T13:51:19.130633Z"
    }
   },
   "cell_type": "code",
   "source": [
    "# 获取数据\n",
    "print(ser_obj.values)\n",
    "# 获取索引\n",
    "print(ser_obj.index)"
   ],
   "id": "4d7d19aca6f07720",
   "outputs": [
    {
     "name": "stdout",
     "output_type": "stream",
     "text": [
      "[10 11 12 13 14 15 16 17 18 19]\n",
      "RangeIndex(start=0, stop=10, step=1)\n"
     ]
    }
   ],
   "execution_count": 4
  },
  {
   "metadata": {
    "ExecuteTime": {
     "end_time": "2025-09-15T13:51:59.309354Z",
     "start_time": "2025-09-15T13:51:59.294562Z"
    }
   },
   "cell_type": "code",
   "source": [
    "#通过索引获取数据\n",
    "print(ser_obj[0])\n",
    "print(ser_obj[8])"
   ],
   "id": "49d3ec2d9ff4505b",
   "outputs": [
    {
     "name": "stdout",
     "output_type": "stream",
     "text": [
      "10\n",
      "18\n"
     ]
    }
   ],
   "execution_count": 6
  },
  {
   "metadata": {
    "ExecuteTime": {
     "end_time": "2025-09-15T13:53:15.857105Z",
     "start_time": "2025-09-15T13:53:15.849904Z"
    }
   },
   "cell_type": "code",
   "source": [
    "# 通过 dict 构建 Series\n",
    "year_data = {2001: 17.8, 2002: 20.1, 2003: 16.5}\n",
    "ser_obj2 = pd.Series(year_data)\n",
    "print(ser_obj2)\n",
    "print(ser_obj2.index)\n",
    "print(ser_obj2[2001])"
   ],
   "id": "cd7a4dc08ac9f07e",
   "outputs": [
    {
     "name": "stdout",
     "output_type": "stream",
     "text": [
      "2001    17.8\n",
      "2002    20.1\n",
      "2003    16.5\n",
      "dtype: float64\n",
      "Index([2001, 2002, 2003], dtype='int64')\n",
      "17.8\n"
     ]
    }
   ],
   "execution_count": 9
  },
  {
   "metadata": {},
   "cell_type": "markdown",
   "source": [
    "Series 对象本质上由两个数组构成，\n",
    "一个数组构成对象的键(index，索引)，一个数组构成对象的值(values)， 键->值"
   ],
   "id": "2be4a0960414a66e"
  },
  {
   "metadata": {},
   "cell_type": "markdown",
   "source": [
    "# 3 DataFrame\n",
    "DataFrame 是一个表格型的数据结构，它含有一组有序的列，每列可以是不同类型的值。DataFrame 既有行索引也有列索引，它可以被看做是由 Series 组成的字典（共用同一个索引），数据是以二维结构存放的。"
   ],
   "id": "d5c18a5602777c51"
  },
  {
   "metadata": {
    "ExecuteTime": {
     "end_time": "2025-09-15T13:57:44.773582Z",
     "start_time": "2025-09-15T13:57:44.749097Z"
    }
   },
   "cell_type": "code",
   "source": [
    "import numpy as np\n",
    "import pandas as pd\n",
    "# 通过 ndarray 构建 DataFrame\n",
    "t = pd.DataFrame(np.arange(12).reshape((3,4)))\n",
    "print(t)\n",
    "array = np.random.randn(5,4) # 生成一个 5×4 的随机数组，元素服从 标准正态分布 N(0,1)\n",
    "print(array)\n",
    "df_obj = pd.DataFrame(array)\n",
    "print(df_obj.head())"
   ],
   "id": "275e3fece831d32f",
   "outputs": [
    {
     "name": "stdout",
     "output_type": "stream",
     "text": [
      "   0  1   2   3\n",
      "0  0  1   2   3\n",
      "1  4  5   6   7\n",
      "2  8  9  10  11\n",
      "[[-1.01529077  0.22059797  0.44179763  0.68709494]\n",
      " [ 0.49933476 -0.51666065  0.53080499  0.07521809]\n",
      " [-0.24362207 -0.4855478  -0.43260429 -0.49785504]\n",
      " [ 0.28341933 -2.01556952  1.86548938  0.66188456]\n",
      " [-1.63418976 -1.0246115  -0.95420031  0.4107219 ]]\n",
      "          0         1         2         3\n",
      "0 -1.015291  0.220598  0.441798  0.687095\n",
      "1  0.499335 -0.516661  0.530805  0.075218\n",
      "2 -0.243622 -0.485548 -0.432604 -0.497855\n",
      "3  0.283419 -2.015570  1.865489  0.661885\n",
      "4 -1.634190 -1.024611 -0.954200  0.410722\n"
     ]
    }
   ],
   "execution_count": 10
  },
  {
   "metadata": {},
   "cell_type": "markdown",
   "source": [
    "DataFrame 对象既有行索引，又有列索引  \n",
    "行索引，表明不同行，横向索引，叫 index，0 轴，axis=0  \n",
    "列索引，表名不同列，纵向索引，叫 columns，1 轴，axis=1"
   ],
   "id": "926c582287d4d68f"
  },
  {
   "metadata": {
    "ExecuteTime": {
     "end_time": "2025-09-15T14:10:05.365994Z",
     "start_time": "2025-09-15T14:10:05.351239Z"
    }
   },
   "cell_type": "code",
   "source": [
    "# 通过 dict 构建 DataFrame\n",
    "dict_data = {'A': 1,\n",
    "             'B': pd.Timestamp('20190926'),\n",
    "             'C': pd.Series(1,index=list(range(4)),dtype='float32'),\n",
    "             'D': np.array([3] * 4,dtype='int32'),\n",
    "             'E': [\"Python\",\"Java\",\"C++\",\"C\"],\n",
    "             'F': 'wangdao' }\n",
    "df_obj2 = pd.DataFrame(dict_data)\n",
    "print(df_obj2)\n",
    "d1={\"name\":[\"xiaoming\",\"xiaogang\"],\"age\":[20,32],\"tel\":\n",
    "[10086,10010]}\n",
    "print(pd.DataFrame(d1))\n",
    "d2 =[{\"name\" : \"xiaohong\" ,\"age\" :32,\"tel\" :10010},{ \"name\":\n",
    "\"xiaogang\" ,\"tel\": 10000} ,{\"name\":\"xiaowang\" ,\"age\":22}]\n",
    "print(pd.DataFrame(d2))"
   ],
   "id": "bb8869d63eb4dfbe",
   "outputs": [
    {
     "name": "stdout",
     "output_type": "stream",
     "text": [
      "   A          B    C  D       E        F\n",
      "0  1 2019-09-26  1.0  3  Python  wangdao\n",
      "1  1 2019-09-26  1.0  3    Java  wangdao\n",
      "2  1 2019-09-26  1.0  3     C++  wangdao\n",
      "3  1 2019-09-26  1.0  3       C  wangdao\n",
      "       name  age    tel\n",
      "0  xiaoming   20  10086\n",
      "1  xiaogang   32  10010\n",
      "       name   age      tel\n",
      "0  xiaohong  32.0  10010.0\n",
      "1  xiaogang   NaN  10000.0\n",
      "2  xiaowang  22.0      NaN\n"
     ]
    }
   ],
   "execution_count": 13
  }
 ],
 "metadata": {
  "kernelspec": {
   "display_name": "Python 3",
   "language": "python",
   "name": "python3"
  },
  "language_info": {
   "codemirror_mode": {
    "name": "ipython",
    "version": 2
   },
   "file_extension": ".py",
   "mimetype": "text/x-python",
   "name": "python",
   "nbconvert_exporter": "python",
   "pygments_lexer": "ipython2",
   "version": "2.7.6"
  }
 },
 "nbformat": 4,
 "nbformat_minor": 5
}
