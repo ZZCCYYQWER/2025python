{
 "cells": [
  {
   "metadata": {},
   "cell_type": "markdown",
   "source": "# 4 NumPy 的Ndarray 对象",
   "id": "6317d8ae29d737f3"
  },
  {
   "metadata": {},
   "cell_type": "markdown",
   "source": "## 4.1 创建一维数组",
   "id": "518adbbc81de3933"
  },
  {
   "cell_type": "code",
   "id": "3575de8dfb5a1e71",
   "metadata": {
    "collapsed": true,
    "ExecuteTime": {
     "end_time": "2025-09-13T15:15:27.026990Z",
     "start_time": "2025-09-13T15:15:26.432790Z"
    }
   },
   "source": [
    "import numpy as np\n",
    "list1 = [1,2,3,4]\n",
    "oneArray = np.array(list1)\n",
    "print(type(oneArray))\n",
    "print(oneArray)"
   ],
   "outputs": [],
   "execution_count": null
  },
  {
   "metadata": {
    "ExecuteTime": {
     "end_time": "2025-09-13T15:15:50.821042Z",
     "start_time": "2025-09-13T15:15:50.809949Z"
    }
   },
   "cell_type": "code",
   "source": [
    "# 创建数组的多种形式\n",
    "# 1. 直接传入列表的方式\n",
    "t1 = np.array([1,2,3])\n",
    "print(t1)\n",
    "print(type(t1))"
   ],
   "id": "initial_id",
   "outputs": [
    {
     "name": "stdout",
     "output_type": "stream",
     "text": [
      "[1 2 3]\n",
      "<class 'numpy.ndarray'>\n"
     ]
    }
   ],
   "execution_count": 2
  },
  {
   "metadata": {
    "ExecuteTime": {
     "end_time": "2025-09-13T15:16:10.161143Z",
     "start_time": "2025-09-13T15:16:10.150628Z"
    }
   },
   "cell_type": "code",
   "source": [
    "# 2. 传入range生成序列\n",
    "t2 = np.array(range(10))\n",
    "print(t2)\n",
    "print(type(t2))"
   ],
   "id": "49c07b587203afe8",
   "outputs": [
    {
     "name": "stdout",
     "output_type": "stream",
     "text": [
      "[0 1 2 3 4 5 6 7 8 9]\n",
      "<class 'numpy.ndarray'>\n"
     ]
    }
   ],
   "execution_count": 3
  },
  {
   "metadata": {
    "ExecuteTime": {
     "end_time": "2025-09-13T15:16:22.739351Z",
     "start_time": "2025-09-13T15:16:22.733842Z"
    }
   },
   "cell_type": "code",
   "source": [
    "# 3. 使用numpy自带的np.arange()生成数组\n",
    "t3 = np.arange(0,10,2)\n",
    "print(t3)\n",
    "print(type(t3))"
   ],
   "id": "321db9f17bd8a5d1",
   "outputs": [
    {
     "name": "stdout",
     "output_type": "stream",
     "text": [
      "[0 2 4 6 8]\n",
      "<class 'numpy.ndarray'>\n"
     ]
    }
   ],
   "execution_count": 4
  },
  {
   "metadata": {},
   "cell_type": "markdown",
   "source": "## 4.2 创建二维数组",
   "id": "9e47dfed2082b4d7"
  },
  {
   "metadata": {
    "ExecuteTime": {
     "end_time": "2025-09-14T06:49:34.078075Z",
     "start_time": "2025-09-14T06:49:33.999069Z"
    }
   },
   "cell_type": "code",
   "source": [
    "import numpy as np\n",
    "list2 = [[1,2],[3,4],[5,6]]\n",
    "twoArray = np.array(list2)\n",
    "print(twoArray)"
   ],
   "id": "9acfd9cd609e8c94",
   "outputs": [
    {
     "name": "stdout",
     "output_type": "stream",
     "text": [
      "[[1 2]\n",
      " [3 4]\n",
      " [5 6]]\n"
     ]
    }
   ],
   "execution_count": 2
  },
  {
   "metadata": {},
   "cell_type": "markdown",
   "source": "## 4.3 常用属性",
   "id": "285712ac5db903dd"
  },
  {
   "metadata": {
    "ExecuteTime": {
     "end_time": "2025-09-14T06:49:35.354537Z",
     "start_time": "2025-09-14T06:49:35.350032Z"
    }
   },
   "cell_type": "code",
   "source": [
    "list2 = [[1,2],[3,4],[5,6]]\n",
    "twoArray = np.array(list2)\n",
    "# 获取数组的维度( 注意： 与函数的参数很像)\n",
    "print(twoArray.ndim)\n",
    "# 形状（行，列）\n",
    "print(twoArray.shape)\n",
    "# 有多少个元素\n",
    "print(twoArray.size)\n",
    "# 数据类型\n",
    "print(twoArray.dtype)"
   ],
   "id": "e4e771d5b1197aff",
   "outputs": [
    {
     "name": "stdout",
     "output_type": "stream",
     "text": [
      "2\n",
      "(3, 2)\n",
      "6\n",
      "int64\n"
     ]
    }
   ],
   "execution_count": 3
  },
  {
   "metadata": {},
   "cell_type": "markdown",
   "source": "## 4.4 调整数组的形状",
   "id": "5654af9c08cdb834"
  },
  {
   "metadata": {
    "ExecuteTime": {
     "end_time": "2025-09-14T06:50:31.597406Z",
     "start_time": "2025-09-14T06:50:31.578397Z"
    }
   },
   "cell_type": "code",
   "source": [
    "four = np.array([[1,2,3],[4,5,6]])\n",
    "# 修改的是原有的\n",
    "four.shape = (3,2)\n",
    "print(four)\n",
    "# 返回一个新的数组\n",
    "four = four.reshape(3,2)\n",
    "print(four)\n",
    "four"
   ],
   "id": "f0f915bd30d35c5e",
   "outputs": [
    {
     "name": "stdout",
     "output_type": "stream",
     "text": [
      "[[1 2]\n",
      " [3 4]\n",
      " [5 6]]\n",
      "[[1 2]\n",
      " [3 4]\n",
      " [5 6]]\n"
     ]
    },
    {
     "data": {
      "text/plain": [
       "array([[1, 2],\n",
       "       [3, 4],\n",
       "       [5, 6]])"
      ]
     },
     "execution_count": 4,
     "metadata": {},
     "output_type": "execute_result"
    }
   ],
   "execution_count": 4
  },
  {
   "metadata": {},
   "cell_type": "code",
   "outputs": [],
   "execution_count": null,
   "source": "",
   "id": "55a5d91e24303cba"
  },
  {
   "metadata": {
    "ExecuteTime": {
     "end_time": "2025-09-13T15:22:06.714633Z",
     "start_time": "2025-09-13T15:22:06.706621Z"
    }
   },
   "cell_type": "code",
   "source": [
    "# 将多维变成一维数组\n",
    "five = four.reshape((6,),order='F')\n",
    "# 默认情况下‘C’以行为主的顺序展开，‘F’（Fortran风格）意味着以列的顺序展开\n",
    "six = four.flatten(order='F')\n",
    "print(five)\n",
    "print(six)"
   ],
   "id": "83457c044af636ef",
   "outputs": [
    {
     "name": "stdout",
     "output_type": "stream",
     "text": [
      "[1 3 5 2 4 6]\n",
      "[1 3 5 2 4 6]\n"
     ]
    }
   ],
   "execution_count": 15
  },
  {
   "metadata": {
    "ExecuteTime": {
     "end_time": "2025-09-13T15:47:38.679125Z",
     "start_time": "2025-09-13T15:47:38.674598Z"
    }
   },
   "cell_type": "code",
   "source": [
    "# 拓展：数组的形状\n",
    "t = np.arange(24)\n",
    "print(t)\n",
    "print(t.shape)"
   ],
   "id": "e2295c9101df3fed",
   "outputs": [
    {
     "name": "stdout",
     "output_type": "stream",
     "text": [
      "[ 0  1  2  3  4  5  6  7  8  9 10 11 12 13 14 15 16 17 18 19 20 21 22 23]\n",
      "(24,)\n"
     ]
    }
   ],
   "execution_count": 16
  },
  {
   "metadata": {
    "ExecuteTime": {
     "end_time": "2025-09-13T15:49:40.451109Z",
     "start_time": "2025-09-13T15:49:40.448109Z"
    }
   },
   "cell_type": "code",
   "source": [
    "# 转换成二维\n",
    "t1 = t.reshape((4,6))\n",
    "print(t1)\n",
    "print(t1.shape)"
   ],
   "id": "a58a6b08f6081a90",
   "outputs": [
    {
     "name": "stdout",
     "output_type": "stream",
     "text": [
      "[[ 0  1  2  3  4  5]\n",
      " [ 6  7  8  9 10 11]\n",
      " [12 13 14 15 16 17]\n",
      " [18 19 20 21 22 23]]\n",
      "(4, 6)\n"
     ]
    }
   ],
   "execution_count": 17
  },
  {
   "metadata": {},
   "cell_type": "markdown",
   "source": "## 4.5 将数组转成list",
   "id": "5e5d9bdf092c4cf5"
  },
  {
   "metadata": {
    "ExecuteTime": {
     "end_time": "2025-09-13T15:51:57.846805Z",
     "start_time": "2025-09-13T15:51:57.841298Z"
    }
   },
   "cell_type": "code",
   "source": [
    "# 将数组转成list\n",
    "a= np.array([9, 12, 88, 14, 25])\n",
    "list_a = a.tolist()\n",
    "print(list_a)\n",
    "print(type(list_a))"
   ],
   "id": "893ad4c5fe3cf3b1",
   "outputs": [
    {
     "name": "stdout",
     "output_type": "stream",
     "text": [
      "[9, 12, 88, 14, 25]\n",
      "<class 'list'>\n"
     ]
    }
   ],
   "execution_count": 18
  },
  {
   "metadata": {},
   "cell_type": "markdown",
   "source": "# 5 NumPy的数据类型",
   "id": "ce5e50c360faa230"
  },
  {
   "metadata": {},
   "cell_type": "markdown",
   "source": "",
   "id": "25c87df5b9054062"
  },
  {
   "metadata": {
    "ExecuteTime": {
     "end_time": "2025-09-13T15:54:12.700225Z",
     "start_time": "2025-09-13T15:54:12.685693Z"
    }
   },
   "cell_type": "code",
   "source": [
    "import random\n",
    "# 返回数组中每个元素的字节单位长度，dtype设置数据类型\n",
    "f = np.array([1,2,3,4,5], dtype = np.int16)\n",
    "print(f.itemsize) # 1 np.int8(一个字节)\n",
    "# 获取数据类型\n",
    "print(f.dtype)\n",
    "# 调整数据类型\n",
    "f1 = f.astype(np.int64)\n",
    "print(f1.dtype)\n",
    "# 拓展随机生成小数\n",
    "# 使用python语法，保留两位\n",
    "print(round(random.random(),2))\n",
    "arr = np.array([random.random() for i in range(10)])\n",
    "# 取小数点后两位\n",
    "print(np.round(arr,2))"
   ],
   "id": "54d42242a70a1704",
   "outputs": [
    {
     "name": "stdout",
     "output_type": "stream",
     "text": [
      "2\n",
      "int16\n",
      "int64\n",
      "0.02\n",
      "[0.79 0.33 0.44 0.82 0.97 0.89 0.45 0.62 0.43 0.01]\n"
     ]
    }
   ],
   "execution_count": 19
  },
  {
   "metadata": {},
   "cell_type": "markdown",
   "source": "# 6 数组的计算",
   "id": "62f88cd4ddc28f8f"
  },
  {
   "metadata": {},
   "cell_type": "markdown",
   "source": [
    "## 6.1 数组和数的计算\n",
    "由于numpy的广播机机制在运算过程中，加减乘除的值被广播到所有的元素上面。"
   ],
   "id": "745ddfaabf8c35bb"
  },
  {
   "metadata": {
    "ExecuteTime": {
     "end_time": "2025-09-13T15:55:39.774517Z",
     "start_time": "2025-09-13T15:55:39.771018Z"
    }
   },
   "cell_type": "code",
   "source": [
    "t1 =np.arange(24).reshape((6,4))\n",
    "print(t1+2)\n",
    "print(\"-\"*20)\n",
    "print(t1*2)\n",
    "print(\"-\"*20)\n",
    "print(t1/2)"
   ],
   "id": "46d8df12deba8858",
   "outputs": [
    {
     "name": "stdout",
     "output_type": "stream",
     "text": [
      "[[ 2  3  4  5]\n",
      " [ 6  7  8  9]\n",
      " [10 11 12 13]\n",
      " [14 15 16 17]\n",
      " [18 19 20 21]\n",
      " [22 23 24 25]]\n",
      "--------------------\n",
      "[[ 0  2  4  6]\n",
      " [ 8 10 12 14]\n",
      " [16 18 20 22]\n",
      " [24 26 28 30]\n",
      " [32 34 36 38]\n",
      " [40 42 44 46]]\n",
      "--------------------\n",
      "[[ 0.   0.5  1.   1.5]\n",
      " [ 2.   2.5  3.   3.5]\n",
      " [ 4.   4.5  5.   5.5]\n",
      " [ 6.   6.5  7.   7.5]\n",
      " [ 8.   8.5  9.   9.5]\n",
      " [10.  10.5 11.  11.5]]\n"
     ]
    }
   ],
   "execution_count": 20
  },
  {
   "metadata": {},
   "cell_type": "markdown",
   "source": "## 6.2 数组与数组之间的操作",
   "id": "64778bc2a068e939"
  },
  {
   "metadata": {
    "ExecuteTime": {
     "end_time": "2025-09-13T16:13:32.771707Z",
     "start_time": "2025-09-13T16:13:32.766707Z"
    }
   },
   "cell_type": "code",
   "source": [
    "# 同种形状的数组(对应位置进行计算操作)，不种形状的多维数组不能计算\n",
    "t1 = np.arange(24).reshape((6,4))\n",
    "t2 = np.arange(100,124).reshape((6,4))\n",
    "print(t1+t2)\n",
    "print(t1*t2)"
   ],
   "id": "f329f77be608950a",
   "outputs": [
    {
     "name": "stdout",
     "output_type": "stream",
     "text": [
      "[[100 102 104 106]\n",
      " [108 110 112 114]\n",
      " [116 118 120 122]\n",
      " [124 126 128 130]\n",
      " [132 134 136 138]\n",
      " [140 142 144 146]]\n",
      "[[   0  101  204  309]\n",
      " [ 416  525  636  749]\n",
      " [ 864  981 1100 1221]\n",
      " [1344 1469 1596 1725]\n",
      " [1856 1989 2124 2261]\n",
      " [2400 2541 2684 2829]]\n"
     ]
    }
   ],
   "execution_count": 22
  },
  {
   "metadata": {
    "ExecuteTime": {
     "end_time": "2025-09-13T16:14:46.495844Z",
     "start_time": "2025-09-13T16:14:46.480809Z"
    }
   },
   "cell_type": "code",
   "source": [
    "#行数或者列数相同的一维数组和多维数组可以进行计算：\n",
    "#行形状相同（会与每一行数组的对应位相操作)\n",
    "t1 = np.arange(24).reshape((4,6))\n",
    "t2 = np.arange(0,6)\n",
    "print(t1-t2)"
   ],
   "id": "3bac28bfaac3af97",
   "outputs": [
    {
     "name": "stdout",
     "output_type": "stream",
     "text": [
      "[[ 0  0  0  0  0  0]\n",
      " [ 6  6  6  6  6  6]\n",
      " [12 12 12 12 12 12]\n",
      " [18 18 18 18 18 18]]\n"
     ]
    }
   ],
   "execution_count": 23
  },
  {
   "metadata": {
    "ExecuteTime": {
     "end_time": "2025-09-13T16:15:00.764299Z",
     "start_time": "2025-09-13T16:15:00.755682Z"
    }
   },
   "cell_type": "code",
   "source": [
    "# 列形状相同（会与每一个相同维度的数组的对应位相操作)\n",
    "t1 = np.arange(24).reshape((4,6))\n",
    "t2 = np.arange(4).reshape((4,1))\n",
    "print(t1-t2)"
   ],
   "id": "846ccc6bae11d5a3",
   "outputs": [
    {
     "name": "stdout",
     "output_type": "stream",
     "text": [
      "[[ 0  1  2  3  4  5]\n",
      " [ 5  6  7  8  9 10]\n",
      " [10 11 12 13 14 15]\n",
      " [15 16 17 18 19 20]]\n"
     ]
    }
   ],
   "execution_count": 24
  },
  {
   "metadata": {},
   "cell_type": "markdown",
   "source": [
    "## 6.3 数组中的轴\n",
    "1. 什么是轴： 在numpy中可以理解为方向，使用0，1，2数字表示，对于一个一维数组，只有一个0轴， 对于2维数组（shape（2，2))有0轴和1轴， 对于3维数组（shape（2，2，3））有0，1，2轴\n",
    "2. 为什么要学习轴：有了轴的概念后，我们计算会更加方便，比如计算一个2维数组的平均值，必须指定是计算哪个方向上面的数字的平均值。\n"
   ],
   "id": "c2ed87178b5804e7"
  },
  {
   "metadata": {
    "ExecuteTime": {
     "end_time": "2025-09-15T08:23:53.219744Z",
     "start_time": "2025-09-15T08:23:53.209745Z"
    }
   },
   "cell_type": "code",
   "source": [
    "import numpy as np\n",
    "\n",
    "arr = np.array([[1, 2, 3],\n",
    "                [4, 5, 6],\n",
    "                [7, 8, 9]])\n",
    "\n",
    "print(arr)"
   ],
   "id": "b1f65d0e3932318a",
   "outputs": [
    {
     "name": "stdout",
     "output_type": "stream",
     "text": [
      "[[1 2 3]\n",
      " [4 5 6]\n",
      " [7 8 9]]\n"
     ]
    }
   ],
   "execution_count": 2
  },
  {
   "metadata": {
    "ExecuteTime": {
     "end_time": "2025-09-15T08:25:04.436209Z",
     "start_time": "2025-09-15T08:25:04.424199Z"
    }
   },
   "cell_type": "code",
   "source": [
    "# 沿 axis=0（跨行计算，结果保留列）\n",
    "print(np.sum(arr, axis=0))  "
   ],
   "id": "b8b20a3495e5adcf",
   "outputs": [
    {
     "name": "stdout",
     "output_type": "stream",
     "text": [
      "[12 15 18]\n"
     ]
    }
   ],
   "execution_count": 3
  },
  {
   "metadata": {
    "ExecuteTime": {
     "end_time": "2025-09-15T08:25:44.574729Z",
     "start_time": "2025-09-15T08:25:44.560720Z"
    }
   },
   "cell_type": "code",
   "source": [
    "# 沿 axis=1（跨列计算，结果保留行）\n",
    "print(np.sum(arr, axis=1))"
   ],
   "id": "bead0e7fb036be65",
   "outputs": [
    {
     "name": "stdout",
     "output_type": "stream",
     "text": [
      "[ 6 15 24]\n"
     ]
    }
   ],
   "execution_count": 4
  },
  {
   "metadata": {
    "ExecuteTime": {
     "end_time": "2025-09-15T08:25:56.517268Z",
     "start_time": "2025-09-15T08:25:56.499089Z"
    }
   },
   "cell_type": "code",
   "source": [
    "# 不指定 axis（对整个数组）\n",
    "print(np.sum(arr))"
   ],
   "id": "15165107cb3c75b4",
   "outputs": [
    {
     "name": "stdout",
     "output_type": "stream",
     "text": [
      "45\n"
     ]
    }
   ],
   "execution_count": 5
  },
  {
   "metadata": {},
   "cell_type": "markdown",
   "source": "结论：axis 是“折叠掉”的维度，结果数组比原来少一个维度。",
   "id": "ea515d9bae9b005"
  },
  {
   "metadata": {
    "ExecuteTime": {
     "end_time": "2025-09-15T08:27:16.631780Z",
     "start_time": "2025-09-15T08:27:16.624279Z"
    }
   },
   "cell_type": "code",
   "source": [
    "import numpy as np\n",
    "\n",
    "a = np.array([[1, 2, 3], [4, 5, 6]])\n",
    "print(a)\n",
    "print(\"-\" * 20)\n",
    "print(np.sum(a, axis=0))  # [5 7 9]，按哪个轴求和，哪个轴没了\n",
    "print(\"-\" * 20)\n",
    "print(np.sum(a, axis=1))  # [ 6 15]\n",
    "print(\"-\" * 20)\n",
    "print(np.sum(a))\n",
    "print(\"-\" * 20)"
   ],
   "id": "4310c521a3734fe0",
   "outputs": [
    {
     "name": "stdout",
     "output_type": "stream",
     "text": [
      "[[1 2 3]\n",
      " [4 5 6]]\n",
      "--------------------\n",
      "[5 7 9]\n",
      "--------------------\n",
      "[ 6 15]\n",
      "--------------------\n",
      "21\n",
      "--------------------\n"
     ]
    }
   ],
   "execution_count": 6
  },
  {
   "metadata": {},
   "cell_type": "markdown",
   "source": "# 7 数组的索引和切片",
   "id": "1b13cfbeaa3f59ce"
  },
  {
   "metadata": {},
   "cell_type": "code",
   "outputs": [],
   "execution_count": null,
   "source": "",
   "id": "9a711be063ec666b"
  }
 ],
 "metadata": {
  "kernelspec": {
   "display_name": "Python 3",
   "language": "python",
   "name": "python3"
  },
  "language_info": {
   "codemirror_mode": {
    "name": "ipython",
    "version": 2
   },
   "file_extension": ".py",
   "mimetype": "text/x-python",
   "name": "python",
   "nbconvert_exporter": "python",
   "pygments_lexer": "ipython2",
   "version": "2.7.6"
  }
 },
 "nbformat": 4,
 "nbformat_minor": 5
}
